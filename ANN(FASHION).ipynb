{
 "cells": [
  {
   "cell_type": "code",
   "execution_count": 2,
   "id": "a515ac4c",
   "metadata": {},
   "outputs": [],
   "source": [
    "import pandas as pd\n",
    "import numpy as np"
   ]
  },
  {
   "cell_type": "markdown",
   "id": "fa39aad3",
   "metadata": {},
   "source": [
    "Here reading the dataset"
   ]
  },
  {
   "cell_type": "code",
   "execution_count": 3,
   "id": "f0ad3c2a",
   "metadata": {},
   "outputs": [],
   "source": [
    "from tensorflow.keras.datasets import fashion_mnist"
   ]
  },
  {
   "cell_type": "code",
   "execution_count": 5,
   "id": "55e1b367",
   "metadata": {},
   "outputs": [],
   "source": [
    "(Xtrain,ytrain),(Xtest,ytest)= fashion_mnist.load_data()"
   ]
  },
  {
   "cell_type": "markdown",
   "id": "361b9f1f",
   "metadata": {},
   "source": [
    "checking the shapes"
   ]
  },
  {
   "cell_type": "code",
   "execution_count": 6,
   "id": "ebf91943",
   "metadata": {},
   "outputs": [
    {
     "data": {
      "text/plain": [
       "(60000, 28, 28)"
      ]
     },
     "execution_count": 6,
     "metadata": {},
     "output_type": "execute_result"
    }
   ],
   "source": [
    "Xtrain.shape"
   ]
  },
  {
   "cell_type": "code",
   "execution_count": 7,
   "id": "2989803d",
   "metadata": {},
   "outputs": [
    {
     "data": {
      "text/plain": [
       "(10000, 28, 28)"
      ]
     },
     "execution_count": 7,
     "metadata": {},
     "output_type": "execute_result"
    }
   ],
   "source": [
    "Xtest.shape"
   ]
  },
  {
   "cell_type": "code",
   "execution_count": 8,
   "id": "cd0022c7",
   "metadata": {},
   "outputs": [
    {
     "data": {
      "text/plain": [
       "(60000,)"
      ]
     },
     "execution_count": 8,
     "metadata": {},
     "output_type": "execute_result"
    }
   ],
   "source": [
    "ytrain.shape"
   ]
  },
  {
   "cell_type": "code",
   "execution_count": 9,
   "id": "ff652aa2",
   "metadata": {},
   "outputs": [
    {
     "data": {
      "text/plain": [
       "(10000,)"
      ]
     },
     "execution_count": 9,
     "metadata": {},
     "output_type": "execute_result"
    }
   ],
   "source": [
    "ytest.shape"
   ]
  },
  {
   "cell_type": "code",
   "execution_count": 10,
   "id": "55f710a0",
   "metadata": {},
   "outputs": [
    {
     "data": {
      "text/plain": [
       "255"
      ]
     },
     "execution_count": 10,
     "metadata": {},
     "output_type": "execute_result"
    }
   ],
   "source": [
    "Xtrain.max()"
   ]
  },
  {
   "cell_type": "code",
   "execution_count": 11,
   "id": "bd374a64",
   "metadata": {},
   "outputs": [
    {
     "data": {
      "text/plain": [
       "0"
      ]
     },
     "execution_count": 11,
     "metadata": {},
     "output_type": "execute_result"
    }
   ],
   "source": [
    "Xtrain.min()"
   ]
  },
  {
   "cell_type": "markdown",
   "id": "6c79f476",
   "metadata": {},
   "source": [
    "Scaling is performed"
   ]
  },
  {
   "cell_type": "code",
   "execution_count": 12,
   "id": "41cddfd2",
   "metadata": {},
   "outputs": [],
   "source": [
    "Xtrain_s= Xtrain/255"
   ]
  },
  {
   "cell_type": "code",
   "execution_count": 13,
   "id": "912bcd8e",
   "metadata": {},
   "outputs": [],
   "source": [
    "Xtest_s= Xtest/255"
   ]
  },
  {
   "cell_type": "markdown",
   "id": "86304b12",
   "metadata": {},
   "source": [
    "Importin Sequential model and then Dense layers"
   ]
  },
  {
   "cell_type": "code",
   "execution_count": 14,
   "id": "535237c3",
   "metadata": {},
   "outputs": [],
   "source": [
    "from tensorflow.keras.models import Sequential"
   ]
  },
  {
   "cell_type": "code",
   "execution_count": 15,
   "id": "339b395e",
   "metadata": {},
   "outputs": [],
   "source": [
    "from tensorflow.keras.layers import Dense,Flatten"
   ]
  },
  {
   "cell_type": "code",
   "execution_count": 16,
   "id": "433a0ac1",
   "metadata": {},
   "outputs": [],
   "source": [
    "model = Sequential()"
   ]
  },
  {
   "cell_type": "markdown",
   "id": "f40a291f",
   "metadata": {},
   "source": [
    "Preparing the layers"
   ]
  },
  {
   "cell_type": "code",
   "execution_count": 24,
   "id": "90fb4544",
   "metadata": {},
   "outputs": [],
   "source": [
    "model.add(Flatten(input_shape=(28,28)))"
   ]
  },
  {
   "cell_type": "code",
   "execution_count": 25,
   "id": "ecf1c412",
   "metadata": {},
   "outputs": [],
   "source": [
    "model.add(Dense(128,activation = \"relu\"))"
   ]
  },
  {
   "cell_type": "code",
   "execution_count": 26,
   "id": "6f8fe41f",
   "metadata": {},
   "outputs": [],
   "source": [
    "model.add(Dense(128, activation = \"relu\"))"
   ]
  },
  {
   "cell_type": "code",
   "execution_count": 27,
   "id": "ce42fe6d",
   "metadata": {},
   "outputs": [],
   "source": [
    "model.add(Dense(128, activation = \"relu\"))"
   ]
  },
  {
   "cell_type": "code",
   "execution_count": 28,
   "id": "5f5c4bae",
   "metadata": {},
   "outputs": [],
   "source": [
    "model.add(Dense(10, activation = \"softmax\"))"
   ]
  },
  {
   "cell_type": "markdown",
   "id": "4764d672",
   "metadata": {},
   "source": [
    "Compling the model "
   ]
  },
  {
   "cell_type": "code",
   "execution_count": 29,
   "id": "9ebe6950",
   "metadata": {},
   "outputs": [],
   "source": [
    "model.compile(optimizer = \"Adam\", loss=\"sparse_categorical_crossentropy\", metrics=[\"accuracy\"])"
   ]
  },
  {
   "cell_type": "code",
   "execution_count": 37,
   "id": "befb707c",
   "metadata": {},
   "outputs": [
    {
     "name": "stdout",
     "output_type": "stream",
     "text": [
      "Epoch 1/15\n",
      "1875/1875 [==============================] - 32s 17ms/step - loss: 0.2161 - accuracy: 0.9172\n",
      "Epoch 2/15\n",
      "1875/1875 [==============================] - 36s 19ms/step - loss: 0.2078 - accuracy: 0.9185\n",
      "Epoch 3/15\n",
      "1875/1875 [==============================] - 37s 20ms/step - loss: 0.1985 - accuracy: 0.9243\n",
      "Epoch 4/15\n",
      "1875/1875 [==============================] - 37s 20ms/step - loss: 0.1894 - accuracy: 0.9278\n",
      "Epoch 5/15\n",
      "1875/1875 [==============================] - 37s 20ms/step - loss: 0.1835 - accuracy: 0.9300\n",
      "Epoch 6/15\n",
      "1875/1875 [==============================] - 37s 20ms/step - loss: 0.1741 - accuracy: 0.9339\n",
      "Epoch 7/15\n",
      "1875/1875 [==============================] - 37s 20ms/step - loss: 0.1673 - accuracy: 0.9366\n",
      "Epoch 8/15\n",
      "1875/1875 [==============================] - 37s 20ms/step - loss: 0.1601 - accuracy: 0.9386\n",
      "Epoch 9/15\n",
      "1875/1875 [==============================] - 37s 20ms/step - loss: 0.1546 - accuracy: 0.9402\n",
      "Epoch 10/15\n",
      "1875/1875 [==============================] - 37s 20ms/step - loss: 0.1483 - accuracy: 0.9426\n",
      "Epoch 11/15\n",
      "1875/1875 [==============================] - 37s 20ms/step - loss: 0.1427 - accuracy: 0.9453\n",
      "Epoch 12/15\n",
      "1875/1875 [==============================] - 38s 20ms/step - loss: 0.1378 - accuracy: 0.9472\n",
      "Epoch 13/15\n",
      "1875/1875 [==============================] - 37s 20ms/step - loss: 0.1304 - accuracy: 0.9505\n",
      "Epoch 14/15\n",
      "1875/1875 [==============================] - 38s 20ms/step - loss: 0.1258 - accuracy: 0.9512\n",
      "Epoch 15/15\n",
      "1875/1875 [==============================] - 37s 20ms/step - loss: 0.1235 - accuracy: 0.9522\n"
     ]
    },
    {
     "data": {
      "text/plain": [
       "<keras.callbacks.History at 0x1e720fcd070>"
      ]
     },
     "execution_count": 37,
     "metadata": {},
     "output_type": "execute_result"
    }
   ],
   "source": [
    "model.fit(Xtrain_s,ytrain, epochs = 15)"
   ]
  },
  {
   "cell_type": "code",
   "execution_count": 38,
   "id": "2b4f7b0d",
   "metadata": {},
   "outputs": [],
   "source": [
    "ypred = model.predict(Xtest_s)"
   ]
  },
  {
   "cell_type": "code",
   "execution_count": 39,
   "id": "709e2e56",
   "metadata": {},
   "outputs": [],
   "source": [
    "ypred = ypred.argmax(axis = 1)"
   ]
  },
  {
   "cell_type": "code",
   "execution_count": 40,
   "id": "29204ede",
   "metadata": {},
   "outputs": [],
   "source": [
    "from sklearn.metrics import accuracy_score"
   ]
  },
  {
   "cell_type": "markdown",
   "id": "da2be2cd",
   "metadata": {},
   "source": [
    "Getting accuracy"
   ]
  },
  {
   "cell_type": "code",
   "execution_count": 41,
   "id": "a07a548d",
   "metadata": {},
   "outputs": [
    {
     "data": {
      "text/plain": [
       "0.8912"
      ]
     },
     "execution_count": 41,
     "metadata": {},
     "output_type": "execute_result"
    }
   ],
   "source": [
    "accuracy_score(ytest,ypred)"
   ]
  },
  {
   "cell_type": "markdown",
   "id": "6fbde3ef",
   "metadata": {},
   "source": [
    "lets do a prediction of a random column"
   ]
  },
  {
   "cell_type": "code",
   "execution_count": 50,
   "id": "4545d613",
   "metadata": {},
   "outputs": [],
   "source": [
    "aa=model.predict(Xtrain_s[600].reshape(1,28,28))"
   ]
  },
  {
   "cell_type": "code",
   "execution_count": 51,
   "id": "81e19ad0",
   "metadata": {},
   "outputs": [
    {
     "data": {
      "text/plain": [
       "0"
      ]
     },
     "execution_count": 51,
     "metadata": {},
     "output_type": "execute_result"
    }
   ],
   "source": [
    "aa.argmax()"
   ]
  },
  {
   "cell_type": "code",
   "execution_count": 52,
   "id": "d8d42f35",
   "metadata": {},
   "outputs": [
    {
     "data": {
      "text/plain": [
       "0"
      ]
     },
     "execution_count": 52,
     "metadata": {},
     "output_type": "execute_result"
    }
   ],
   "source": [
    "ytrain[600]"
   ]
  },
  {
   "cell_type": "markdown",
   "id": "dc21ce5b",
   "metadata": {},
   "source": [
    "It's working properly "
   ]
  },
  {
   "cell_type": "code",
   "execution_count": null,
   "id": "d7264eff",
   "metadata": {},
   "outputs": [],
   "source": []
  }
 ],
 "metadata": {
  "kernelspec": {
   "display_name": "Python 3 (ipykernel)",
   "language": "python",
   "name": "python3"
  },
  "language_info": {
   "codemirror_mode": {
    "name": "ipython",
    "version": 3
   },
   "file_extension": ".py",
   "mimetype": "text/x-python",
   "name": "python",
   "nbconvert_exporter": "python",
   "pygments_lexer": "ipython3",
   "version": "3.9.7"
  }
 },
 "nbformat": 4,
 "nbformat_minor": 5
}
